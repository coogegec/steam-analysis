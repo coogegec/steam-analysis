{
 "cells": [
  {
   "cell_type": "code",
   "execution_count": 1,
   "metadata": {},
   "outputs": [
    {
     "data": {
      "text/html": [
       "<div>\n",
       "<style scoped>\n",
       "    .dataframe tbody tr th:only-of-type {\n",
       "        vertical-align: middle;\n",
       "    }\n",
       "\n",
       "    .dataframe tbody tr th {\n",
       "        vertical-align: top;\n",
       "    }\n",
       "\n",
       "    .dataframe thead th {\n",
       "        text-align: right;\n",
       "    }\n",
       "</style>\n",
       "<table border=\"1\" class=\"dataframe\">\n",
       "  <thead>\n",
       "    <tr style=\"text-align: right;\">\n",
       "      <th></th>\n",
       "      <th>days_after_releasing</th>\n",
       "      <th>english</th>\n",
       "      <th>required_age</th>\n",
       "      <th>achievements</th>\n",
       "      <th>average_playtime</th>\n",
       "      <th>median_playtime</th>\n",
       "      <th>owners</th>\n",
       "      <th>price</th>\n",
       "      <th>positive_ratings</th>\n",
       "      <th>negative_ratings</th>\n",
       "      <th>...</th>\n",
       "      <th>Action</th>\n",
       "      <th>Casual</th>\n",
       "      <th>Adventure</th>\n",
       "      <th>Strategy</th>\n",
       "      <th>Simulation</th>\n",
       "      <th>Early Access</th>\n",
       "      <th>RPG</th>\n",
       "      <th>Free to Play</th>\n",
       "      <th>Puzzle</th>\n",
       "      <th>p-n ratio</th>\n",
       "    </tr>\n",
       "  </thead>\n",
       "  <tbody>\n",
       "    <tr>\n",
       "      <th>0</th>\n",
       "      <td>6769</td>\n",
       "      <td>1</td>\n",
       "      <td>0</td>\n",
       "      <td>0</td>\n",
       "      <td>17612</td>\n",
       "      <td>317</td>\n",
       "      <td>15000000</td>\n",
       "      <td>7.19</td>\n",
       "      <td>124534</td>\n",
       "      <td>3339</td>\n",
       "      <td>...</td>\n",
       "      <td>1</td>\n",
       "      <td>0</td>\n",
       "      <td>0</td>\n",
       "      <td>0</td>\n",
       "      <td>0</td>\n",
       "      <td>0</td>\n",
       "      <td>0</td>\n",
       "      <td>0</td>\n",
       "      <td>0</td>\n",
       "      <td>37.296795</td>\n",
       "    </tr>\n",
       "    <tr>\n",
       "      <th>1</th>\n",
       "      <td>7349</td>\n",
       "      <td>1</td>\n",
       "      <td>0</td>\n",
       "      <td>0</td>\n",
       "      <td>277</td>\n",
       "      <td>62</td>\n",
       "      <td>7500000</td>\n",
       "      <td>3.99</td>\n",
       "      <td>3318</td>\n",
       "      <td>633</td>\n",
       "      <td>...</td>\n",
       "      <td>1</td>\n",
       "      <td>0</td>\n",
       "      <td>0</td>\n",
       "      <td>0</td>\n",
       "      <td>0</td>\n",
       "      <td>0</td>\n",
       "      <td>0</td>\n",
       "      <td>0</td>\n",
       "      <td>0</td>\n",
       "      <td>5.241706</td>\n",
       "    </tr>\n",
       "    <tr>\n",
       "      <th>2</th>\n",
       "      <td>5858</td>\n",
       "      <td>1</td>\n",
       "      <td>0</td>\n",
       "      <td>0</td>\n",
       "      <td>187</td>\n",
       "      <td>34</td>\n",
       "      <td>7500000</td>\n",
       "      <td>3.99</td>\n",
       "      <td>3416</td>\n",
       "      <td>398</td>\n",
       "      <td>...</td>\n",
       "      <td>0</td>\n",
       "      <td>0</td>\n",
       "      <td>0</td>\n",
       "      <td>0</td>\n",
       "      <td>0</td>\n",
       "      <td>0</td>\n",
       "      <td>0</td>\n",
       "      <td>0</td>\n",
       "      <td>0</td>\n",
       "      <td>8.582915</td>\n",
       "    </tr>\n",
       "    <tr>\n",
       "      <th>3</th>\n",
       "      <td>6557</td>\n",
       "      <td>1</td>\n",
       "      <td>0</td>\n",
       "      <td>0</td>\n",
       "      <td>258</td>\n",
       "      <td>184</td>\n",
       "      <td>7500000</td>\n",
       "      <td>3.99</td>\n",
       "      <td>1273</td>\n",
       "      <td>267</td>\n",
       "      <td>...</td>\n",
       "      <td>1</td>\n",
       "      <td>0</td>\n",
       "      <td>0</td>\n",
       "      <td>0</td>\n",
       "      <td>0</td>\n",
       "      <td>0</td>\n",
       "      <td>0</td>\n",
       "      <td>0</td>\n",
       "      <td>0</td>\n",
       "      <td>4.767790</td>\n",
       "    </tr>\n",
       "    <tr>\n",
       "      <th>4</th>\n",
       "      <td>7135</td>\n",
       "      <td>1</td>\n",
       "      <td>0</td>\n",
       "      <td>0</td>\n",
       "      <td>624</td>\n",
       "      <td>415</td>\n",
       "      <td>7500000</td>\n",
       "      <td>3.99</td>\n",
       "      <td>5250</td>\n",
       "      <td>288</td>\n",
       "      <td>...</td>\n",
       "      <td>1</td>\n",
       "      <td>0</td>\n",
       "      <td>0</td>\n",
       "      <td>0</td>\n",
       "      <td>0</td>\n",
       "      <td>0</td>\n",
       "      <td>0</td>\n",
       "      <td>0</td>\n",
       "      <td>0</td>\n",
       "      <td>18.229167</td>\n",
       "    </tr>\n",
       "  </tbody>\n",
       "</table>\n",
       "<p>5 rows × 34 columns</p>\n",
       "</div>"
      ],
      "text/plain": [
       "   days_after_releasing  english  required_age  achievements  \\\n",
       "0                  6769        1             0             0   \n",
       "1                  7349        1             0             0   \n",
       "2                  5858        1             0             0   \n",
       "3                  6557        1             0             0   \n",
       "4                  7135        1             0             0   \n",
       "\n",
       "   average_playtime  median_playtime    owners  price  positive_ratings  \\\n",
       "0             17612              317  15000000   7.19            124534   \n",
       "1               277               62   7500000   3.99              3318   \n",
       "2               187               34   7500000   3.99              3416   \n",
       "3               258              184   7500000   3.99              1273   \n",
       "4               624              415   7500000   3.99              5250   \n",
       "\n",
       "   negative_ratings  ...  Action  Casual  Adventure  Strategy  Simulation  \\\n",
       "0              3339  ...       1       0          0         0           0   \n",
       "1               633  ...       1       0          0         0           0   \n",
       "2               398  ...       0       0          0         0           0   \n",
       "3               267  ...       1       0          0         0           0   \n",
       "4               288  ...       1       0          0         0           0   \n",
       "\n",
       "   Early Access  RPG  Free to Play  Puzzle  p-n ratio  \n",
       "0             0    0             0       0  37.296795  \n",
       "1             0    0             0       0   5.241706  \n",
       "2             0    0             0       0   8.582915  \n",
       "3             0    0             0       0   4.767790  \n",
       "4             0    0             0       0  18.229167  \n",
       "\n",
       "[5 rows x 34 columns]"
      ]
     },
     "execution_count": 1,
     "metadata": {},
     "output_type": "execute_result"
    }
   ],
   "source": [
    "import pandas as pd\n",
    "\n",
    "df=pd.read_csv('d:/data/steam/steam_final.csv')\n",
    "df.head()"
   ]
  },
  {
   "cell_type": "code",
   "execution_count": 2,
   "metadata": {},
   "outputs": [
    {
     "data": {
      "text/html": [
       "<div>\n",
       "<style scoped>\n",
       "    .dataframe tbody tr th:only-of-type {\n",
       "        vertical-align: middle;\n",
       "    }\n",
       "\n",
       "    .dataframe tbody tr th {\n",
       "        vertical-align: top;\n",
       "    }\n",
       "\n",
       "    .dataframe thead th {\n",
       "        text-align: right;\n",
       "    }\n",
       "</style>\n",
       "<table border=\"1\" class=\"dataframe\">\n",
       "  <thead>\n",
       "    <tr style=\"text-align: right;\">\n",
       "      <th></th>\n",
       "      <th>days_after_releasing</th>\n",
       "      <th>english</th>\n",
       "      <th>required_age</th>\n",
       "      <th>achievements</th>\n",
       "      <th>average_playtime</th>\n",
       "      <th>median_playtime</th>\n",
       "      <th>owners</th>\n",
       "      <th>price</th>\n",
       "      <th>positive_ratings</th>\n",
       "      <th>negative_ratings</th>\n",
       "      <th>...</th>\n",
       "      <th>Casual</th>\n",
       "      <th>Adventure</th>\n",
       "      <th>Strategy</th>\n",
       "      <th>Simulation</th>\n",
       "      <th>Early Access</th>\n",
       "      <th>RPG</th>\n",
       "      <th>Free to Play</th>\n",
       "      <th>Puzzle</th>\n",
       "      <th>p-n ratio</th>\n",
       "      <th>p-n ratio_categorize</th>\n",
       "    </tr>\n",
       "  </thead>\n",
       "  <tbody>\n",
       "    <tr>\n",
       "      <th>0</th>\n",
       "      <td>6769</td>\n",
       "      <td>1</td>\n",
       "      <td>0</td>\n",
       "      <td>0</td>\n",
       "      <td>17612</td>\n",
       "      <td>317</td>\n",
       "      <td>15000000</td>\n",
       "      <td>7.19</td>\n",
       "      <td>124534</td>\n",
       "      <td>3339</td>\n",
       "      <td>...</td>\n",
       "      <td>0</td>\n",
       "      <td>0</td>\n",
       "      <td>0</td>\n",
       "      <td>0</td>\n",
       "      <td>0</td>\n",
       "      <td>0</td>\n",
       "      <td>0</td>\n",
       "      <td>0</td>\n",
       "      <td>37.296795</td>\n",
       "      <td>3</td>\n",
       "    </tr>\n",
       "    <tr>\n",
       "      <th>1</th>\n",
       "      <td>7349</td>\n",
       "      <td>1</td>\n",
       "      <td>0</td>\n",
       "      <td>0</td>\n",
       "      <td>277</td>\n",
       "      <td>62</td>\n",
       "      <td>7500000</td>\n",
       "      <td>3.99</td>\n",
       "      <td>3318</td>\n",
       "      <td>633</td>\n",
       "      <td>...</td>\n",
       "      <td>0</td>\n",
       "      <td>0</td>\n",
       "      <td>0</td>\n",
       "      <td>0</td>\n",
       "      <td>0</td>\n",
       "      <td>0</td>\n",
       "      <td>0</td>\n",
       "      <td>0</td>\n",
       "      <td>5.241706</td>\n",
       "      <td>2</td>\n",
       "    </tr>\n",
       "    <tr>\n",
       "      <th>2</th>\n",
       "      <td>5858</td>\n",
       "      <td>1</td>\n",
       "      <td>0</td>\n",
       "      <td>0</td>\n",
       "      <td>187</td>\n",
       "      <td>34</td>\n",
       "      <td>7500000</td>\n",
       "      <td>3.99</td>\n",
       "      <td>3416</td>\n",
       "      <td>398</td>\n",
       "      <td>...</td>\n",
       "      <td>0</td>\n",
       "      <td>0</td>\n",
       "      <td>0</td>\n",
       "      <td>0</td>\n",
       "      <td>0</td>\n",
       "      <td>0</td>\n",
       "      <td>0</td>\n",
       "      <td>0</td>\n",
       "      <td>8.582915</td>\n",
       "      <td>3</td>\n",
       "    </tr>\n",
       "    <tr>\n",
       "      <th>3</th>\n",
       "      <td>6557</td>\n",
       "      <td>1</td>\n",
       "      <td>0</td>\n",
       "      <td>0</td>\n",
       "      <td>258</td>\n",
       "      <td>184</td>\n",
       "      <td>7500000</td>\n",
       "      <td>3.99</td>\n",
       "      <td>1273</td>\n",
       "      <td>267</td>\n",
       "      <td>...</td>\n",
       "      <td>0</td>\n",
       "      <td>0</td>\n",
       "      <td>0</td>\n",
       "      <td>0</td>\n",
       "      <td>0</td>\n",
       "      <td>0</td>\n",
       "      <td>0</td>\n",
       "      <td>0</td>\n",
       "      <td>4.767790</td>\n",
       "      <td>2</td>\n",
       "    </tr>\n",
       "    <tr>\n",
       "      <th>4</th>\n",
       "      <td>7135</td>\n",
       "      <td>1</td>\n",
       "      <td>0</td>\n",
       "      <td>0</td>\n",
       "      <td>624</td>\n",
       "      <td>415</td>\n",
       "      <td>7500000</td>\n",
       "      <td>3.99</td>\n",
       "      <td>5250</td>\n",
       "      <td>288</td>\n",
       "      <td>...</td>\n",
       "      <td>0</td>\n",
       "      <td>0</td>\n",
       "      <td>0</td>\n",
       "      <td>0</td>\n",
       "      <td>0</td>\n",
       "      <td>0</td>\n",
       "      <td>0</td>\n",
       "      <td>0</td>\n",
       "      <td>18.229167</td>\n",
       "      <td>3</td>\n",
       "    </tr>\n",
       "  </tbody>\n",
       "</table>\n",
       "<p>5 rows × 35 columns</p>\n",
       "</div>"
      ],
      "text/plain": [
       "   days_after_releasing  english  required_age  achievements  \\\n",
       "0                  6769        1             0             0   \n",
       "1                  7349        1             0             0   \n",
       "2                  5858        1             0             0   \n",
       "3                  6557        1             0             0   \n",
       "4                  7135        1             0             0   \n",
       "\n",
       "   average_playtime  median_playtime    owners  price  positive_ratings  \\\n",
       "0             17612              317  15000000   7.19            124534   \n",
       "1               277               62   7500000   3.99              3318   \n",
       "2               187               34   7500000   3.99              3416   \n",
       "3               258              184   7500000   3.99              1273   \n",
       "4               624              415   7500000   3.99              5250   \n",
       "\n",
       "   negative_ratings  ...  Casual  Adventure  Strategy  Simulation  \\\n",
       "0              3339  ...       0          0         0           0   \n",
       "1               633  ...       0          0         0           0   \n",
       "2               398  ...       0          0         0           0   \n",
       "3               267  ...       0          0         0           0   \n",
       "4               288  ...       0          0         0           0   \n",
       "\n",
       "   Early Access  RPG  Free to Play  Puzzle  p-n ratio  p-n ratio_categorize  \n",
       "0             0    0             0       0  37.296795                     3  \n",
       "1             0    0             0       0   5.241706                     2  \n",
       "2             0    0             0       0   8.582915                     3  \n",
       "3             0    0             0       0   4.767790                     2  \n",
       "4             0    0             0       0  18.229167                     3  \n",
       "\n",
       "[5 rows x 35 columns]"
      ]
     },
     "execution_count": 2,
     "metadata": {},
     "output_type": "execute_result"
    }
   ],
   "source": [
    "import numpy as np\n",
    "from matplotlib import font_manager,rc\n",
    "\n",
    "font_name=font_manager.FontProperties(fname='c:/windows/fonts/malgun.ttf').get_name()\n",
    "rc('font', family=font_name)\n",
    "\n",
    "df['p-n ratio_categorize']=np.digitize(df['p-n ratio'], [0,4,8])\n",
    "df.head()"
   ]
  },
  {
   "cell_type": "code",
   "execution_count": 3,
   "metadata": {},
   "outputs": [
    {
     "name": "stderr",
     "output_type": "stream",
     "text": [
      "D:\\anaconda3\\lib\\site-packages\\seaborn\\_decorators.py:36: FutureWarning: Pass the following variable as a keyword arg: x. From version 0.12, the only valid positional argument will be `data`, and passing other arguments without an explicit keyword will result in an error or misinterpretation.\n",
      "  warnings.warn(\n"
     ]
    },
    {
     "data": {
      "text/plain": [
       "Text(0.5, 1.0, '분류\\n (1: 나쁨, 2: 보통, 3: 좋음)')"
      ]
     },
     "execution_count": 3,
     "metadata": {},
     "output_type": "execute_result"
    },
    {
     "data": {
      "image/png": "[encoded data removed]",
      "text/plain": [
       "<Figure size 432x288 with 1 Axes>"
      ]
     },
     "metadata": {
      "needs_background": "light"
     },
     "output_type": "display_data"
    }
   ],
   "source": [
    "import matplotlib.pyplot as plt\n",
    "import seaborn as sns\n",
    "\n",
    "colors=['red','yellow','green']\n",
    "sns.countplot('p-n ratio_categorize', data=df, palette=colors)\n",
    "plt.title(\"분류\\n (1: 나쁨, 2: 보통, 3: 좋음)\", fontsize=14)"
   ]
  },
  {
   "cell_type": "code",
   "execution_count": 4,
   "metadata": {},
   "outputs": [],
   "source": [
    "from imblearn.under_sampling import RandomUnderSampler\n",
    "\n",
    "X=df[df.columns[:-2]]\n",
    "y=df['p-n ratio_categorize']\n",
    "\n",
    "X_sample, y_sample=RandomUnderSampler(random_state=0).fit_resample(X,y)\n",
    "X_samp=pd.DataFrame(data=X_sample, columns=df.columns[:-2])\n",
    "y_samp=pd.DataFrame(data=y_sample, columns=['p-n ratio_categorize'])\n",
    "df2=pd.concat([X_samp,y_samp], axis=1)"
   ]
  },
  {
   "cell_type": "code",
   "execution_count": 5,
   "metadata": {},
   "outputs": [
    {
     "data": {
      "text/plain": [
       "1    4876\n",
       "2    4876\n",
       "3    4876\n",
       "Name: p-n ratio_categorize, dtype: int64"
      ]
     },
     "execution_count": 5,
     "metadata": {},
     "output_type": "execute_result"
    }
   ],
   "source": [
    "df2['p-n ratio_categorize'].value_counts()"
   ]
  },
  {
   "cell_type": "code",
   "execution_count": 6,
   "metadata": {},
   "outputs": [
    {
     "name": "stderr",
     "output_type": "stream",
     "text": [
      "D:\\anaconda3\\lib\\site-packages\\seaborn\\_decorators.py:36: FutureWarning: Pass the following variable as a keyword arg: x. From version 0.12, the only valid positional argument will be `data`, and passing other arguments without an explicit keyword will result in an error or misinterpretation.\n",
      "  warnings.warn(\n"
     ]
    },
    {
     "data": {
      "text/plain": [
       "Text(0.5, 1.0, '분류\\n (1: 나쁨, 2: 보통, 3: 좋음)')"
      ]
     },
     "execution_count": 6,
     "metadata": {},
     "output_type": "execute_result"
    },
    {
     "data": {
      "image/png": "[encoded data removed]",
      "text/plain": [
       "<Figure size 432x288 with 1 Axes>"
      ]
     },
     "metadata": {
      "needs_background": "light"
     },
     "output_type": "display_data"
    }
   ],
   "source": [
    "sns.countplot('p-n ratio_categorize', data=df2, palette=colors)\n",
    "plt.title(\"분류\\n (1: 나쁨, 2: 보통, 3: 좋음)\", fontsize=14)"
   ]
  },
  {
   "cell_type": "code",
   "execution_count": 7,
   "metadata": {},
   "outputs": [],
   "source": [
    "X=df2[df2.columns[:-1]]\n",
    "y=df2['p-n ratio_categorize']"
   ]
  },
  {
   "cell_type": "code",
   "execution_count": 8,
   "metadata": {},
   "outputs": [
    {
     "data": {
      "text/plain": [
       "False"
      ]
     },
     "execution_count": 8,
     "metadata": {},
     "output_type": "execute_result"
    }
   ],
   "source": [
    "df2.isnull().values.any()"
   ]
  },
  {
   "cell_type": "code",
   "execution_count": 9,
   "metadata": {},
   "outputs": [
    {
     "data": {
      "text/plain": [
       "False"
      ]
     },
     "execution_count": 9,
     "metadata": {},
     "output_type": "execute_result"
    }
   ],
   "source": [
    "df.isnull().values.any()"
   ]
  },
  {
   "cell_type": "code",
   "execution_count": 10,
   "metadata": {},
   "outputs": [
    {
     "name": "stderr",
     "output_type": "stream",
     "text": [
      "D:\\anaconda3\\lib\\site-packages\\sklearn\\linear_model\\_logistic.py:763: ConvergenceWarning: lbfgs failed to converge (status=1):\n",
      "STOP: TOTAL NO. of ITERATIONS REACHED LIMIT.\n",
      "\n",
      "Increase the number of iterations (max_iter) or scale the data as shown in:\n",
      "    https://scikit-learn.org/stable/modules/preprocessing.html\n",
      "Please also refer to the documentation for alternative solver options:\n",
      "    https://scikit-learn.org/stable/modules/linear_model.html#logistic-regression\n",
      "  n_iter_i = _check_optimize_result(\n"
     ]
    },
    {
     "data": {
      "text/plain": [
       "LogisticRegression(max_iter=5000)"
      ]
     },
     "execution_count": 10,
     "metadata": {},
     "output_type": "execute_result"
    }
   ],
   "source": [
    "from sklearn.model_selection import train_test_split\n",
    "from sklearn.linear_model import LogisticRegression\n",
    "from sklearn import metrics\n",
    "\n",
    "X_train, X_test, y_train, y_test=train_test_split(X,y,test_size=0.2, random_state=0)\n",
    "model=LogisticRegression(max_iter=5000)\n",
    "model.fit(X_train, y_train)"
   ]
  },
  {
   "cell_type": "code",
   "execution_count": 23,
   "metadata": {},
   "outputs": [
    {
     "data": {
      "text/plain": [
       "1    3938\n",
       "3    3891\n",
       "2    3873\n",
       "Name: p-n ratio_categorize, dtype: int64"
      ]
     },
     "execution_count": 23,
     "metadata": {},
     "output_type": "execute_result"
    }
   ],
   "source": [
    "y_train.value_counts()"
   ]
  },
  {
   "cell_type": "code",
   "execution_count": 25,
   "metadata": {},
   "outputs": [
    {
     "data": {
      "text/plain": [
       "2    1003\n",
       "3     985\n",
       "1     938\n",
       "Name: p-n ratio_categorize, dtype: int64"
      ]
     },
     "execution_count": 25,
     "metadata": {},
     "output_type": "execute_result"
    }
   ],
   "source": [
    "y_test.value_counts()"
   ]
  },
  {
   "cell_type": "code",
   "execution_count": 11,
   "metadata": {},
   "outputs": [
    {
     "name": "stdout",
     "output_type": "stream",
     "text": [
      "학습용 : 0.8936079302683302\n",
      "검증용 : 0.8796992481203008\n"
     ]
    }
   ],
   "source": [
    "print('학습용 :',model.score(X_train, y_train))\n",
    "print('검증용 :',model.score(X_test, y_test))"
   ]
  },
  {
   "cell_type": "code",
   "execution_count": 12,
   "metadata": {},
   "outputs": [
    {
     "data": {
      "text/plain": [
       "array([[843,  54,  41],\n",
       "       [ 24, 829, 150],\n",
       "       [  0,  83, 902]], dtype=int64)"
      ]
     },
     "execution_count": 12,
     "metadata": {},
     "output_type": "execute_result"
    }
   ],
   "source": [
    "from sklearn.metrics import confusion_matrix\n",
    "\n",
    "pred=model.predict(X_test)\n",
    "cm=confusion_matrix(y_test, pred)\n",
    "cm"
   ]
  },
  {
   "cell_type": "code",
   "execution_count": 13,
   "metadata": {},
   "outputs": [
    {
     "data": {
      "text/plain": [
       "<AxesSubplot:title={'center':'Confusion Matrix'}>"
      ]
     },
     "execution_count": 13,
     "metadata": {},
     "output_type": "execute_result"
    },
    {
     "data": {
      "image/png": "[encoded data removed]",
      "text/plain": [
       "<Figure size 648x432 with 2 Axes>"
      ]
     },
     "metadata": {},
     "output_type": "display_data"
    }
   ],
   "source": [
    "sns.set(font_scale=1.4)\n",
    "plt.figure(figsize=(9,6))\n",
    "plt.title('Confusion Matrix')\n",
    "sns.heatmap(cm, annot=True, fmt='d')"
   ]
  },
  {
   "cell_type": "code",
   "execution_count": 14,
   "metadata": {},
   "outputs": [
    {
     "data": {
      "text/html": [
       "<div>\n",
       "<style scoped>\n",
       "    .dataframe tbody tr th:only-of-type {\n",
       "        vertical-align: middle;\n",
       "    }\n",
       "\n",
       "    .dataframe tbody tr th {\n",
       "        vertical-align: top;\n",
       "    }\n",
       "\n",
       "    .dataframe thead th {\n",
       "        text-align: right;\n",
       "    }\n",
       "</style>\n",
       "<table border=\"1\" class=\"dataframe\">\n",
       "  <thead>\n",
       "    <tr style=\"text-align: right;\">\n",
       "      <th></th>\n",
       "      <th>coef</th>\n",
       "    </tr>\n",
       "  </thead>\n",
       "  <tbody>\n",
       "    <tr>\n",
       "      <th>positive_ratings</th>\n",
       "      <td>0.413697</td>\n",
       "    </tr>\n",
       "    <tr>\n",
       "      <th>Steam Trading Cards_cate</th>\n",
       "      <td>0.006024</td>\n",
       "    </tr>\n",
       "    <tr>\n",
       "      <th>median_playtime</th>\n",
       "      <td>0.002297</td>\n",
       "    </tr>\n",
       "    <tr>\n",
       "      <th>Steam Cloud_cate</th>\n",
       "      <td>0.001491</td>\n",
       "    </tr>\n",
       "    <tr>\n",
       "      <th>Puzzle</th>\n",
       "      <td>0.001261</td>\n",
       "    </tr>\n",
       "    <tr>\n",
       "      <th>Free to Play</th>\n",
       "      <td>0.000481</td>\n",
       "    </tr>\n",
       "    <tr>\n",
       "      <th>achievements</th>\n",
       "      <td>0.000082</td>\n",
       "    </tr>\n",
       "    <tr>\n",
       "      <th>days_after_releasing</th>\n",
       "      <td>0.000063</td>\n",
       "    </tr>\n",
       "    <tr>\n",
       "      <th>owners</th>\n",
       "      <td>-0.000009</td>\n",
       "    </tr>\n",
       "    <tr>\n",
       "      <th>Steam Leaderboards_cate</th>\n",
       "      <td>-0.000474</td>\n",
       "    </tr>\n",
       "    <tr>\n",
       "      <th>linux</th>\n",
       "      <td>-0.001541</td>\n",
       "    </tr>\n",
       "    <tr>\n",
       "      <th>average_playtime</th>\n",
       "      <td>-0.001567</td>\n",
       "    </tr>\n",
       "    <tr>\n",
       "      <th>Simulation</th>\n",
       "      <td>-0.002783</td>\n",
       "    </tr>\n",
       "    <tr>\n",
       "      <th>RPG</th>\n",
       "      <td>-0.002940</td>\n",
       "    </tr>\n",
       "    <tr>\n",
       "      <th>Online Multi-Player_cate</th>\n",
       "      <td>-0.003093</td>\n",
       "    </tr>\n",
       "    <tr>\n",
       "      <th>mac</th>\n",
       "      <td>-0.003095</td>\n",
       "    </tr>\n",
       "    <tr>\n",
       "      <th>Multi-player_cate</th>\n",
       "      <td>-0.003245</td>\n",
       "    </tr>\n",
       "    <tr>\n",
       "      <th>Full controller support_cate</th>\n",
       "      <td>-0.003399</td>\n",
       "    </tr>\n",
       "    <tr>\n",
       "      <th>Shared/Split Screen_cate</th>\n",
       "      <td>-0.003666</td>\n",
       "    </tr>\n",
       "    <tr>\n",
       "      <th>required_age</th>\n",
       "      <td>-0.004037</td>\n",
       "    </tr>\n",
       "    <tr>\n",
       "      <th>Partial Controller Support_cate</th>\n",
       "      <td>-0.004793</td>\n",
       "    </tr>\n",
       "    <tr>\n",
       "      <th>Strategy</th>\n",
       "      <td>-0.005038</td>\n",
       "    </tr>\n",
       "    <tr>\n",
       "      <th>Steam Achievements_cate</th>\n",
       "      <td>-0.005802</td>\n",
       "    </tr>\n",
       "    <tr>\n",
       "      <th>Adventure</th>\n",
       "      <td>-0.007246</td>\n",
       "    </tr>\n",
       "    <tr>\n",
       "      <th>Early Access</th>\n",
       "      <td>-0.008549</td>\n",
       "    </tr>\n",
       "    <tr>\n",
       "      <th>Action</th>\n",
       "      <td>-0.016831</td>\n",
       "    </tr>\n",
       "    <tr>\n",
       "      <th>Casual</th>\n",
       "      <td>-0.017276</td>\n",
       "    </tr>\n",
       "    <tr>\n",
       "      <th>Indie</th>\n",
       "      <td>-0.029344</td>\n",
       "    </tr>\n",
       "    <tr>\n",
       "      <th>Single-player_cate</th>\n",
       "      <td>-0.033902</td>\n",
       "    </tr>\n",
       "    <tr>\n",
       "      <th>english</th>\n",
       "      <td>-0.035534</td>\n",
       "    </tr>\n",
       "    <tr>\n",
       "      <th>windows</th>\n",
       "      <td>-0.035876</td>\n",
       "    </tr>\n",
       "    <tr>\n",
       "      <th>price</th>\n",
       "      <td>-0.057510</td>\n",
       "    </tr>\n",
       "    <tr>\n",
       "      <th>negative_ratings</th>\n",
       "      <td>-2.635805</td>\n",
       "    </tr>\n",
       "  </tbody>\n",
       "</table>\n",
       "</div>"
      ],
      "text/plain": [
       "                                     coef\n",
       "positive_ratings                 0.413697\n",
       "Steam Trading Cards_cate         0.006024\n",
       "median_playtime                  0.002297\n",
       "Steam Cloud_cate                 0.001491\n",
       "Puzzle                           0.001261\n",
       "Free to Play                     0.000481\n",
       "achievements                     0.000082\n",
       "days_after_releasing             0.000063\n",
       "owners                          -0.000009\n",
       "Steam Leaderboards_cate         -0.000474\n",
       "linux                           -0.001541\n",
       "average_playtime                -0.001567\n",
       "Simulation                      -0.002783\n",
       "RPG                             -0.002940\n",
       "Online Multi-Player_cate        -0.003093\n",
       "mac                             -0.003095\n",
       "Multi-player_cate               -0.003245\n",
       "Full controller support_cate    -0.003399\n",
       "Shared/Split Screen_cate        -0.003666\n",
       "required_age                    -0.004037\n",
       "Partial Controller Support_cate -0.004793\n",
       "Strategy                        -0.005038\n",
       "Steam Achievements_cate         -0.005802\n",
       "Adventure                       -0.007246\n",
       "Early Access                    -0.008549\n",
       "Action                          -0.016831\n",
       "Casual                          -0.017276\n",
       "Indie                           -0.029344\n",
       "Single-player_cate              -0.033902\n",
       "english                         -0.035534\n",
       "windows                         -0.035876\n",
       "price                           -0.057510\n",
       "negative_ratings                -2.635805"
      ]
     },
     "execution_count": 14,
     "metadata": {},
     "output_type": "execute_result"
    }
   ],
   "source": [
    "coef=pd.DataFrame(model.coef_[2],X.columns,columns=['coef']).sort_values(by='coef', ascending=False)\n",
    "coef"
   ]
  },
  {
   "cell_type": "code",
   "execution_count": 15,
   "metadata": {},
   "outputs": [
    {
     "data": {
      "text/plain": [
       "array([[-2.30879225e-04,  1.50006942e-02,  2.31655112e-03,\n",
       "        -2.22662566e-04,  2.64595025e-03, -4.06791211e-03,\n",
       "         6.28178519e-06,  4.69964799e-02, -4.51300462e-01,\n",
       "         2.29150441e+00, -3.38319592e-03, -3.40220503e-03,\n",
       "         1.50170847e-02,  1.36088663e-02, -6.28702098e-03,\n",
       "        -4.92278974e-03, -4.49810297e-03, -3.47832394e-03,\n",
       "         2.55584352e-03,  8.49125467e-04, -2.32999488e-03,\n",
       "         5.57204811e-04,  6.45437322e-04,  7.94520734e-03,\n",
       "         7.41364693e-03,  1.00044269e-02,  5.79965747e-03,\n",
       "         2.37487926e-03,  3.71085938e-04,  4.45681389e-03,\n",
       "         1.28529582e-03, -4.14274961e-04, -1.02375032e-03],\n",
       "       [ 1.68082086e-04,  2.05333976e-02,  1.72046121e-03,\n",
       "         1.40636955e-04, -1.07899843e-03,  1.77043406e-03,\n",
       "         2.39513754e-06,  1.05137942e-02,  3.76031114e-02,\n",
       "         3.44301091e-01,  4.92456060e-03,  6.49767306e-03,\n",
       "         2.08588345e-02,  2.02933122e-02,  1.20894797e-02,\n",
       "        -1.10163247e-03,  3.00690987e-03,  6.87732924e-03,\n",
       "         2.23713062e-03,  2.39560814e-03,  2.80425428e-03,\n",
       "         2.53578373e-03,  3.02078047e-03,  2.13990183e-02,\n",
       "         9.41693563e-03,  7.27186315e-03,  1.44589701e-03,\n",
       "         2.66357637e-03,  2.41234428e-03,  4.09236906e-03,\n",
       "         1.65497982e-03, -6.65108037e-05, -2.37515850e-04],\n",
       "       [ 6.27971378e-05, -3.55340919e-02, -4.03701232e-03,\n",
       "         8.20256157e-05, -1.56695182e-03,  2.29747804e-03,\n",
       "        -8.67693222e-06, -5.75102742e-02,  4.13697350e-01,\n",
       "        -2.63580550e+00, -1.54136468e-03, -3.09546803e-03,\n",
       "        -3.58759192e-02, -3.39021785e-02, -5.80245872e-03,\n",
       "         6.02442221e-03,  1.49119311e-03, -3.39900530e-03,\n",
       "        -4.79297415e-03, -3.24473361e-03, -4.74259405e-04,\n",
       "        -3.09298854e-03, -3.66621779e-03, -2.93442256e-02,\n",
       "        -1.68305826e-02, -1.72762900e-02, -7.24555448e-03,\n",
       "        -5.03845563e-03, -2.78343022e-03, -8.54918295e-03,\n",
       "        -2.94027564e-03,  4.80785765e-04,  1.26126617e-03]])"
      ]
     },
     "execution_count": 15,
     "metadata": {},
     "output_type": "execute_result"
    }
   ],
   "source": [
    "model.coef_"
   ]
  }
 ],
 "metadata": {
  "interpreter": {
   "hash": "7b4b4feff2f24a0f0a34464dbe537a36fda679851528fb8735cb41fa49dffb2d"
  },
  "kernelspec": {
   "display_name": "Python 3.8.8 64-bit ('base': conda)",
   "language": "python",
   "name": "python3"
  },
  "language_info": {
   "codemirror_mode": {
    "name": "ipython",
    "version": 3
   },
   "file_extension": ".py",
   "mimetype": "text/x-python",
   "name": "python",
   "nbconvert_exporter": "python",
   "pygments_lexer": "ipython3",
   "version": "3.8.8"
  },
  "orig_nbformat": 4
 },
 "nbformat": 4,
 "nbformat_minor": 2
}
