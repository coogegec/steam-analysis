{
 "cells": [
  {
   "cell_type": "code",
   "execution_count": 47,
   "metadata": {},
   "outputs": [
    {
     "data": {
      "text/html": [
       "<div>\n",
       "<style scoped>\n",
       "    .dataframe tbody tr th:only-of-type {\n",
       "        vertical-align: middle;\n",
       "    }\n",
       "\n",
       "    .dataframe tbody tr th {\n",
       "        vertical-align: top;\n",
       "    }\n",
       "\n",
       "    .dataframe thead th {\n",
       "        text-align: right;\n",
       "    }\n",
       "</style>\n",
       "<table border=\"1\" class=\"dataframe\">\n",
       "  <thead>\n",
       "    <tr style=\"text-align: right;\">\n",
       "      <th></th>\n",
       "      <th>days_after_releasing</th>\n",
       "      <th>english</th>\n",
       "      <th>required_age</th>\n",
       "      <th>achievements</th>\n",
       "      <th>average_playtime</th>\n",
       "      <th>median_playtime</th>\n",
       "      <th>owners</th>\n",
       "      <th>price</th>\n",
       "      <th>positive_ratings</th>\n",
       "      <th>negative_ratings</th>\n",
       "      <th>...</th>\n",
       "      <th>Action</th>\n",
       "      <th>Casual</th>\n",
       "      <th>Adventure</th>\n",
       "      <th>Strategy</th>\n",
       "      <th>Simulation</th>\n",
       "      <th>Early Access</th>\n",
       "      <th>RPG</th>\n",
       "      <th>Free to Play</th>\n",
       "      <th>Puzzle</th>\n",
       "      <th>p-n ratio</th>\n",
       "    </tr>\n",
       "  </thead>\n",
       "  <tbody>\n",
       "    <tr>\n",
       "      <th>0</th>\n",
       "      <td>6769</td>\n",
       "      <td>1</td>\n",
       "      <td>0</td>\n",
       "      <td>0</td>\n",
       "      <td>17612</td>\n",
       "      <td>317</td>\n",
       "      <td>15000000</td>\n",
       "      <td>7.19</td>\n",
       "      <td>124534</td>\n",
       "      <td>3339</td>\n",
       "      <td>...</td>\n",
       "      <td>1</td>\n",
       "      <td>0</td>\n",
       "      <td>0</td>\n",
       "      <td>0</td>\n",
       "      <td>0</td>\n",
       "      <td>0</td>\n",
       "      <td>0</td>\n",
       "      <td>0</td>\n",
       "      <td>0</td>\n",
       "      <td>37.296795</td>\n",
       "    </tr>\n",
       "    <tr>\n",
       "      <th>1</th>\n",
       "      <td>7349</td>\n",
       "      <td>1</td>\n",
       "      <td>0</td>\n",
       "      <td>0</td>\n",
       "      <td>277</td>\n",
       "      <td>62</td>\n",
       "      <td>7500000</td>\n",
       "      <td>3.99</td>\n",
       "      <td>3318</td>\n",
       "      <td>633</td>\n",
       "      <td>...</td>\n",
       "      <td>1</td>\n",
       "      <td>0</td>\n",
       "      <td>0</td>\n",
       "      <td>0</td>\n",
       "      <td>0</td>\n",
       "      <td>0</td>\n",
       "      <td>0</td>\n",
       "      <td>0</td>\n",
       "      <td>0</td>\n",
       "      <td>5.241706</td>\n",
       "    </tr>\n",
       "    <tr>\n",
       "      <th>2</th>\n",
       "      <td>5858</td>\n",
       "      <td>1</td>\n",
       "      <td>0</td>\n",
       "      <td>0</td>\n",
       "      <td>187</td>\n",
       "      <td>34</td>\n",
       "      <td>7500000</td>\n",
       "      <td>3.99</td>\n",
       "      <td>3416</td>\n",
       "      <td>398</td>\n",
       "      <td>...</td>\n",
       "      <td>0</td>\n",
       "      <td>0</td>\n",
       "      <td>0</td>\n",
       "      <td>0</td>\n",
       "      <td>0</td>\n",
       "      <td>0</td>\n",
       "      <td>0</td>\n",
       "      <td>0</td>\n",
       "      <td>0</td>\n",
       "      <td>8.582915</td>\n",
       "    </tr>\n",
       "    <tr>\n",
       "      <th>3</th>\n",
       "      <td>6557</td>\n",
       "      <td>1</td>\n",
       "      <td>0</td>\n",
       "      <td>0</td>\n",
       "      <td>258</td>\n",
       "      <td>184</td>\n",
       "      <td>7500000</td>\n",
       "      <td>3.99</td>\n",
       "      <td>1273</td>\n",
       "      <td>267</td>\n",
       "      <td>...</td>\n",
       "      <td>1</td>\n",
       "      <td>0</td>\n",
       "      <td>0</td>\n",
       "      <td>0</td>\n",
       "      <td>0</td>\n",
       "      <td>0</td>\n",
       "      <td>0</td>\n",
       "      <td>0</td>\n",
       "      <td>0</td>\n",
       "      <td>4.767790</td>\n",
       "    </tr>\n",
       "    <tr>\n",
       "      <th>4</th>\n",
       "      <td>7135</td>\n",
       "      <td>1</td>\n",
       "      <td>0</td>\n",
       "      <td>0</td>\n",
       "      <td>624</td>\n",
       "      <td>415</td>\n",
       "      <td>7500000</td>\n",
       "      <td>3.99</td>\n",
       "      <td>5250</td>\n",
       "      <td>288</td>\n",
       "      <td>...</td>\n",
       "      <td>1</td>\n",
       "      <td>0</td>\n",
       "      <td>0</td>\n",
       "      <td>0</td>\n",
       "      <td>0</td>\n",
       "      <td>0</td>\n",
       "      <td>0</td>\n",
       "      <td>0</td>\n",
       "      <td>0</td>\n",
       "      <td>18.229167</td>\n",
       "    </tr>\n",
       "  </tbody>\n",
       "</table>\n",
       "<p>5 rows × 34 columns</p>\n",
       "</div>"
      ],
      "text/plain": [
       "   days_after_releasing  english  required_age  achievements  \\\n",
       "0                  6769        1             0             0   \n",
       "1                  7349        1             0             0   \n",
       "2                  5858        1             0             0   \n",
       "3                  6557        1             0             0   \n",
       "4                  7135        1             0             0   \n",
       "\n",
       "   average_playtime  median_playtime    owners  price  positive_ratings  \\\n",
       "0             17612              317  15000000   7.19            124534   \n",
       "1               277               62   7500000   3.99              3318   \n",
       "2               187               34   7500000   3.99              3416   \n",
       "3               258              184   7500000   3.99              1273   \n",
       "4               624              415   7500000   3.99              5250   \n",
       "\n",
       "   negative_ratings  ...  Action  Casual  Adventure  Strategy  Simulation  \\\n",
       "0              3339  ...       1       0          0         0           0   \n",
       "1               633  ...       1       0          0         0           0   \n",
       "2               398  ...       0       0          0         0           0   \n",
       "3               267  ...       1       0          0         0           0   \n",
       "4               288  ...       1       0          0         0           0   \n",
       "\n",
       "   Early Access  RPG  Free to Play  Puzzle  p-n ratio  \n",
       "0             0    0             0       0  37.296795  \n",
       "1             0    0             0       0   5.241706  \n",
       "2             0    0             0       0   8.582915  \n",
       "3             0    0             0       0   4.767790  \n",
       "4             0    0             0       0  18.229167  \n",
       "\n",
       "[5 rows x 34 columns]"
      ]
     },
     "execution_count": 47,
     "metadata": {},
     "output_type": "execute_result"
    }
   ],
   "source": [
    "import pandas as pd\n",
    "\n",
    "df=pd.read_csv('d:/data/steam/steam_final.csv')\n",
    "df.head()"
   ]
  },
  {
   "cell_type": "code",
   "execution_count": 48,
   "metadata": {},
   "outputs": [
    {
     "data": {
      "text/html": [
       "<div>\n",
       "<style scoped>\n",
       "    .dataframe tbody tr th:only-of-type {\n",
       "        vertical-align: middle;\n",
       "    }\n",
       "\n",
       "    .dataframe tbody tr th {\n",
       "        vertical-align: top;\n",
       "    }\n",
       "\n",
       "    .dataframe thead th {\n",
       "        text-align: right;\n",
       "    }\n",
       "</style>\n",
       "<table border=\"1\" class=\"dataframe\">\n",
       "  <thead>\n",
       "    <tr style=\"text-align: right;\">\n",
       "      <th></th>\n",
       "      <th>days_after_releasing</th>\n",
       "      <th>english</th>\n",
       "      <th>required_age</th>\n",
       "      <th>achievements</th>\n",
       "      <th>average_playtime</th>\n",
       "      <th>median_playtime</th>\n",
       "      <th>owners</th>\n",
       "      <th>price</th>\n",
       "      <th>positive_ratings</th>\n",
       "      <th>negative_ratings</th>\n",
       "      <th>...</th>\n",
       "      <th>Casual</th>\n",
       "      <th>Adventure</th>\n",
       "      <th>Strategy</th>\n",
       "      <th>Simulation</th>\n",
       "      <th>Early Access</th>\n",
       "      <th>RPG</th>\n",
       "      <th>Free to Play</th>\n",
       "      <th>Puzzle</th>\n",
       "      <th>p-n ratio</th>\n",
       "      <th>p-n ratio_categorize</th>\n",
       "    </tr>\n",
       "  </thead>\n",
       "  <tbody>\n",
       "    <tr>\n",
       "      <th>0</th>\n",
       "      <td>6769</td>\n",
       "      <td>1</td>\n",
       "      <td>0</td>\n",
       "      <td>0</td>\n",
       "      <td>17612</td>\n",
       "      <td>317</td>\n",
       "      <td>15000000</td>\n",
       "      <td>7.19</td>\n",
       "      <td>124534</td>\n",
       "      <td>3339</td>\n",
       "      <td>...</td>\n",
       "      <td>0</td>\n",
       "      <td>0</td>\n",
       "      <td>0</td>\n",
       "      <td>0</td>\n",
       "      <td>0</td>\n",
       "      <td>0</td>\n",
       "      <td>0</td>\n",
       "      <td>0</td>\n",
       "      <td>37.296795</td>\n",
       "      <td>3</td>\n",
       "    </tr>\n",
       "    <tr>\n",
       "      <th>1</th>\n",
       "      <td>7349</td>\n",
       "      <td>1</td>\n",
       "      <td>0</td>\n",
       "      <td>0</td>\n",
       "      <td>277</td>\n",
       "      <td>62</td>\n",
       "      <td>7500000</td>\n",
       "      <td>3.99</td>\n",
       "      <td>3318</td>\n",
       "      <td>633</td>\n",
       "      <td>...</td>\n",
       "      <td>0</td>\n",
       "      <td>0</td>\n",
       "      <td>0</td>\n",
       "      <td>0</td>\n",
       "      <td>0</td>\n",
       "      <td>0</td>\n",
       "      <td>0</td>\n",
       "      <td>0</td>\n",
       "      <td>5.241706</td>\n",
       "      <td>2</td>\n",
       "    </tr>\n",
       "    <tr>\n",
       "      <th>2</th>\n",
       "      <td>5858</td>\n",
       "      <td>1</td>\n",
       "      <td>0</td>\n",
       "      <td>0</td>\n",
       "      <td>187</td>\n",
       "      <td>34</td>\n",
       "      <td>7500000</td>\n",
       "      <td>3.99</td>\n",
       "      <td>3416</td>\n",
       "      <td>398</td>\n",
       "      <td>...</td>\n",
       "      <td>0</td>\n",
       "      <td>0</td>\n",
       "      <td>0</td>\n",
       "      <td>0</td>\n",
       "      <td>0</td>\n",
       "      <td>0</td>\n",
       "      <td>0</td>\n",
       "      <td>0</td>\n",
       "      <td>8.582915</td>\n",
       "      <td>3</td>\n",
       "    </tr>\n",
       "    <tr>\n",
       "      <th>3</th>\n",
       "      <td>6557</td>\n",
       "      <td>1</td>\n",
       "      <td>0</td>\n",
       "      <td>0</td>\n",
       "      <td>258</td>\n",
       "      <td>184</td>\n",
       "      <td>7500000</td>\n",
       "      <td>3.99</td>\n",
       "      <td>1273</td>\n",
       "      <td>267</td>\n",
       "      <td>...</td>\n",
       "      <td>0</td>\n",
       "      <td>0</td>\n",
       "      <td>0</td>\n",
       "      <td>0</td>\n",
       "      <td>0</td>\n",
       "      <td>0</td>\n",
       "      <td>0</td>\n",
       "      <td>0</td>\n",
       "      <td>4.767790</td>\n",
       "      <td>2</td>\n",
       "    </tr>\n",
       "    <tr>\n",
       "      <th>4</th>\n",
       "      <td>7135</td>\n",
       "      <td>1</td>\n",
       "      <td>0</td>\n",
       "      <td>0</td>\n",
       "      <td>624</td>\n",
       "      <td>415</td>\n",
       "      <td>7500000</td>\n",
       "      <td>3.99</td>\n",
       "      <td>5250</td>\n",
       "      <td>288</td>\n",
       "      <td>...</td>\n",
       "      <td>0</td>\n",
       "      <td>0</td>\n",
       "      <td>0</td>\n",
       "      <td>0</td>\n",
       "      <td>0</td>\n",
       "      <td>0</td>\n",
       "      <td>0</td>\n",
       "      <td>0</td>\n",
       "      <td>18.229167</td>\n",
       "      <td>3</td>\n",
       "    </tr>\n",
       "  </tbody>\n",
       "</table>\n",
       "<p>5 rows × 35 columns</p>\n",
       "</div>"
      ],
      "text/plain": [
       "   days_after_releasing  english  required_age  achievements  \\\n",
       "0                  6769        1             0             0   \n",
       "1                  7349        1             0             0   \n",
       "2                  5858        1             0             0   \n",
       "3                  6557        1             0             0   \n",
       "4                  7135        1             0             0   \n",
       "\n",
       "   average_playtime  median_playtime    owners  price  positive_ratings  \\\n",
       "0             17612              317  15000000   7.19            124534   \n",
       "1               277               62   7500000   3.99              3318   \n",
       "2               187               34   7500000   3.99              3416   \n",
       "3               258              184   7500000   3.99              1273   \n",
       "4               624              415   7500000   3.99              5250   \n",
       "\n",
       "   negative_ratings  ...  Casual  Adventure  Strategy  Simulation  \\\n",
       "0              3339  ...       0          0         0           0   \n",
       "1               633  ...       0          0         0           0   \n",
       "2               398  ...       0          0         0           0   \n",
       "3               267  ...       0          0         0           0   \n",
       "4               288  ...       0          0         0           0   \n",
       "\n",
       "   Early Access  RPG  Free to Play  Puzzle  p-n ratio  p-n ratio_categorize  \n",
       "0             0    0             0       0  37.296795                     3  \n",
       "1             0    0             0       0   5.241706                     2  \n",
       "2             0    0             0       0   8.582915                     3  \n",
       "3             0    0             0       0   4.767790                     2  \n",
       "4             0    0             0       0  18.229167                     3  \n",
       "\n",
       "[5 rows x 35 columns]"
      ]
     },
     "execution_count": 48,
     "metadata": {},
     "output_type": "execute_result"
    }
   ],
   "source": [
    "import numpy as np\n",
    "from matplotlib import font_manager,rc\n",
    "\n",
    "font_name=font_manager.FontProperties(fname='c:/windows/fonts/malgun.ttf').get_name()\n",
    "rc('font', family=font_name)\n",
    "\n",
    "df['p-n ratio_categorize']=np.digitize(df['p-n ratio'], [0,4,8])\n",
    "df.head()"
   ]
  },
  {
   "cell_type": "code",
   "execution_count": 49,
   "metadata": {},
   "outputs": [
    {
     "name": "stderr",
     "output_type": "stream",
     "text": [
      "D:\\anaconda3\\lib\\site-packages\\seaborn\\_decorators.py:36: FutureWarning: Pass the following variable as a keyword arg: x. From version 0.12, the only valid positional argument will be `data`, and passing other arguments without an explicit keyword will result in an error or misinterpretation.\n",
      "  warnings.warn(\n"
     ]
    },
    {
     "data": {
      "text/plain": [
       "Text(0.5, 1.0, '분류\\n (1: 나쁨, 2: 보통, 3: 좋음)')"
      ]
     },
     "execution_count": 49,
     "metadata": {},
     "output_type": "execute_result"
    },
    {
     "data": {
      "image/png": "[encoded data removed]",
      "text/plain": [
       "<Figure size 432x288 with 1 Axes>"
      ]
     },
     "metadata": {},
     "output_type": "display_data"
    }
   ],
   "source": [
    "import matplotlib.pyplot as plt\n",
    "import seaborn as sns\n",
    "\n",
    "colors=['red','yellow','green']\n",
    "sns.countplot('p-n ratio_categorize', data=df, palette=colors)\n",
    "plt.title(\"분류\\n (1: 나쁨, 2: 보통, 3: 좋음)\", fontsize=14)"
   ]
  },
  {
   "cell_type": "code",
   "execution_count": 50,
   "metadata": {},
   "outputs": [],
   "source": [
    "from imblearn.under_sampling import RandomUnderSampler\n",
    "\n",
    "X=df[df.columns[:-2]]\n",
    "y=df['p-n ratio_categorize']\n",
    "\n",
    "X_sample, y_sample=RandomUnderSampler(random_state=0).fit_resample(X,y)\n",
    "X_samp=pd.DataFrame(data=X_sample, columns=df.columns[:-2])\n",
    "y_samp=pd.DataFrame(data=y_sample, columns=['p-n ratio_categorize'])\n",
    "df2=pd.concat([X_samp,y_samp], axis=1)"
   ]
  },
  {
   "cell_type": "code",
   "execution_count": 51,
   "metadata": {},
   "outputs": [
    {
     "data": {
      "text/plain": [
       "1    4876\n",
       "2    4876\n",
       "3    4876\n",
       "Name: p-n ratio_categorize, dtype: int64"
      ]
     },
     "execution_count": 51,
     "metadata": {},
     "output_type": "execute_result"
    }
   ],
   "source": [
    "df2['p-n ratio_categorize'].value_counts()"
   ]
  },
  {
   "cell_type": "code",
   "execution_count": 52,
   "metadata": {},
   "outputs": [
    {
     "name": "stderr",
     "output_type": "stream",
     "text": [
      "D:\\anaconda3\\lib\\site-packages\\seaborn\\_decorators.py:36: FutureWarning: Pass the following variable as a keyword arg: x. From version 0.12, the only valid positional argument will be `data`, and passing other arguments without an explicit keyword will result in an error or misinterpretation.\n",
      "  warnings.warn(\n"
     ]
    },
    {
     "data": {
      "text/plain": [
       "Text(0.5, 1.0, '분류\\n (1: 나쁨, 2: 보통, 3: 좋음)')"
      ]
     },
     "execution_count": 52,
     "metadata": {},
     "output_type": "execute_result"
    },
    {
     "data": {
      "image/png": "[encoded data removed]",
      "text/plain": [
       "<Figure size 432x288 with 1 Axes>"
      ]
     },
     "metadata": {},
     "output_type": "display_data"
    }
   ],
   "source": [
    "sns.countplot('p-n ratio_categorize', data=df2, palette=colors)\n",
    "plt.title(\"분류\\n (1: 나쁨, 2: 보통, 3: 좋음)\", fontsize=14)"
   ]
  },
  {
   "cell_type": "code",
   "execution_count": 53,
   "metadata": {},
   "outputs": [],
   "source": [
    "X=df2[df2.columns[:-1]]\n",
    "y=df2['p-n ratio_categorize']"
   ]
  },
  {
   "cell_type": "code",
   "execution_count": 54,
   "metadata": {},
   "outputs": [
    {
     "data": {
      "text/plain": [
       "False"
      ]
     },
     "execution_count": 54,
     "metadata": {},
     "output_type": "execute_result"
    }
   ],
   "source": [
    "df2.isnull().values.any()"
   ]
  },
  {
   "cell_type": "code",
   "execution_count": 55,
   "metadata": {},
   "outputs": [
    {
     "data": {
      "text/plain": [
       "False"
      ]
     },
     "execution_count": 55,
     "metadata": {},
     "output_type": "execute_result"
    }
   ],
   "source": [
    "df.isnull().values.any()"
   ]
  },
  {
   "cell_type": "code",
   "execution_count": 56,
   "metadata": {},
   "outputs": [
    {
     "name": "stderr",
     "output_type": "stream",
     "text": [
      "D:\\anaconda3\\lib\\site-packages\\sklearn\\linear_model\\_logistic.py:763: ConvergenceWarning: lbfgs failed to converge (status=1):\n",
      "STOP: TOTAL NO. of ITERATIONS REACHED LIMIT.\n",
      "\n",
      "Increase the number of iterations (max_iter) or scale the data as shown in:\n",
      "    https://scikit-learn.org/stable/modules/preprocessing.html\n",
      "Please also refer to the documentation for alternative solver options:\n",
      "    https://scikit-learn.org/stable/modules/linear_model.html#logistic-regression\n",
      "  n_iter_i = _check_optimize_result(\n"
     ]
    },
    {
     "data": {
      "text/plain": [
       "LogisticRegression(max_iter=5000)"
      ]
     },
     "execution_count": 56,
     "metadata": {},
     "output_type": "execute_result"
    }
   ],
   "source": [
    "from sklearn.model_selection import train_test_split\n",
    "from sklearn.linear_model import LogisticRegression\n",
    "from sklearn import metrics\n",
    "\n",
    "X_train, X_test, y_train, y_test=train_test_split(X,y,test_size=0.2, random_state=0)\n",
    "model=LogisticRegression(max_iter=5000)\n",
    "model.fit(X_train, y_train)"
   ]
  },
  {
   "cell_type": "code",
   "execution_count": 57,
   "metadata": {},
   "outputs": [
    {
     "name": "stdout",
     "output_type": "stream",
     "text": [
      "학습용 : 0.8920697316698001\n",
      "검증용 : 0.8776486671223513\n"
     ]
    }
   ],
   "source": [
    "print('학습용 :',model.score(X_train, y_train))\n",
    "print('검증용 :',model.score(X_test, y_test))"
   ]
  },
  {
   "cell_type": "code",
   "execution_count": 58,
   "metadata": {},
   "outputs": [
    {
     "data": {
      "text/plain": [
       "array([[843,  69,  26],\n",
       "       [ 22, 834, 147],\n",
       "       [  0,  94, 891]], dtype=int64)"
      ]
     },
     "execution_count": 58,
     "metadata": {},
     "output_type": "execute_result"
    }
   ],
   "source": [
    "from sklearn.metrics import confusion_matrix\n",
    "\n",
    "pred=model.predict(X_test)\n",
    "cm=confusion_matrix(y_test, pred)\n",
    "cm"
   ]
  },
  {
   "cell_type": "code",
   "execution_count": 59,
   "metadata": {},
   "outputs": [
    {
     "data": {
      "text/plain": [
       "<AxesSubplot:title={'center':'Confusion Matrix'}>"
      ]
     },
     "execution_count": 59,
     "metadata": {},
     "output_type": "execute_result"
    },
    {
     "data": {
      "image/png": "[encoded data removed]",
      "text/plain": [
       "<Figure size 648x432 with 2 Axes>"
      ]
     },
     "metadata": {},
     "output_type": "display_data"
    }
   ],
   "source": [
    "sns.set(font_scale=1.4)\n",
    "plt.figure(figsize=(9,6))\n",
    "plt.title('Confusion Matrix')\n",
    "sns.heatmap(cm, annot=True, fmt='d')"
   ]
  },
  {
   "cell_type": "code",
   "execution_count": 60,
   "metadata": {},
   "outputs": [
    {
     "data": {
      "text/html": [
       "<div>\n",
       "<style scoped>\n",
       "    .dataframe tbody tr th:only-of-type {\n",
       "        vertical-align: middle;\n",
       "    }\n",
       "\n",
       "    .dataframe tbody tr th {\n",
       "        vertical-align: top;\n",
       "    }\n",
       "\n",
       "    .dataframe thead th {\n",
       "        text-align: right;\n",
       "    }\n",
       "</style>\n",
       "<table border=\"1\" class=\"dataframe\">\n",
       "  <thead>\n",
       "    <tr style=\"text-align: right;\">\n",
       "      <th></th>\n",
       "      <th>coef</th>\n",
       "    </tr>\n",
       "  </thead>\n",
       "  <tbody>\n",
       "    <tr>\n",
       "      <th>positive_ratings</th>\n",
       "      <td>0.497221</td>\n",
       "    </tr>\n",
       "    <tr>\n",
       "      <th>Steam Trading Cards_cate</th>\n",
       "      <td>0.015206</td>\n",
       "    </tr>\n",
       "    <tr>\n",
       "      <th>average_playtime</th>\n",
       "      <td>0.002363</td>\n",
       "    </tr>\n",
       "    <tr>\n",
       "      <th>Puzzle</th>\n",
       "      <td>0.001635</td>\n",
       "    </tr>\n",
       "    <tr>\n",
       "      <th>Free to Play</th>\n",
       "      <td>0.001439</td>\n",
       "    </tr>\n",
       "    <tr>\n",
       "      <th>Steam Cloud_cate</th>\n",
       "      <td>0.000947</td>\n",
       "    </tr>\n",
       "    <tr>\n",
       "      <th>days_after_releasing</th>\n",
       "      <td>0.000301</td>\n",
       "    </tr>\n",
       "    <tr>\n",
       "      <th>achievements</th>\n",
       "      <td>0.000140</td>\n",
       "    </tr>\n",
       "    <tr>\n",
       "      <th>owners</th>\n",
       "      <td>-0.000005</td>\n",
       "    </tr>\n",
       "    <tr>\n",
       "      <th>median_playtime</th>\n",
       "      <td>-0.001966</td>\n",
       "    </tr>\n",
       "    <tr>\n",
       "      <th>Steam Leaderboards_cate</th>\n",
       "      <td>-0.002112</td>\n",
       "    </tr>\n",
       "    <tr>\n",
       "      <th>Simulation</th>\n",
       "      <td>-0.005293</td>\n",
       "    </tr>\n",
       "    <tr>\n",
       "      <th>linux</th>\n",
       "      <td>-0.005642</td>\n",
       "    </tr>\n",
       "    <tr>\n",
       "      <th>Online Multi-Player_cate</th>\n",
       "      <td>-0.006054</td>\n",
       "    </tr>\n",
       "    <tr>\n",
       "      <th>Multi-player_cate</th>\n",
       "      <td>-0.006182</td>\n",
       "    </tr>\n",
       "    <tr>\n",
       "      <th>required_age</th>\n",
       "      <td>-0.006421</td>\n",
       "    </tr>\n",
       "    <tr>\n",
       "      <th>RPG</th>\n",
       "      <td>-0.007001</td>\n",
       "    </tr>\n",
       "    <tr>\n",
       "      <th>Shared/Split Screen_cate</th>\n",
       "      <td>-0.009513</td>\n",
       "    </tr>\n",
       "    <tr>\n",
       "      <th>mac</th>\n",
       "      <td>-0.009931</td>\n",
       "    </tr>\n",
       "    <tr>\n",
       "      <th>Full controller support_cate</th>\n",
       "      <td>-0.010151</td>\n",
       "    </tr>\n",
       "    <tr>\n",
       "      <th>Strategy</th>\n",
       "      <td>-0.010594</td>\n",
       "    </tr>\n",
       "    <tr>\n",
       "      <th>Partial Controller Support_cate</th>\n",
       "      <td>-0.012243</td>\n",
       "    </tr>\n",
       "    <tr>\n",
       "      <th>Steam Achievements_cate</th>\n",
       "      <td>-0.017080</td>\n",
       "    </tr>\n",
       "    <tr>\n",
       "      <th>Adventure</th>\n",
       "      <td>-0.017398</td>\n",
       "    </tr>\n",
       "    <tr>\n",
       "      <th>Early Access</th>\n",
       "      <td>-0.020642</td>\n",
       "    </tr>\n",
       "    <tr>\n",
       "      <th>Action</th>\n",
       "      <td>-0.041205</td>\n",
       "    </tr>\n",
       "    <tr>\n",
       "      <th>Casual</th>\n",
       "      <td>-0.044730</td>\n",
       "    </tr>\n",
       "    <tr>\n",
       "      <th>Indie</th>\n",
       "      <td>-0.076039</td>\n",
       "    </tr>\n",
       "    <tr>\n",
       "      <th>price</th>\n",
       "      <td>-0.083927</td>\n",
       "    </tr>\n",
       "    <tr>\n",
       "      <th>Single-player_cate</th>\n",
       "      <td>-0.085835</td>\n",
       "    </tr>\n",
       "    <tr>\n",
       "      <th>english</th>\n",
       "      <td>-0.088624</td>\n",
       "    </tr>\n",
       "    <tr>\n",
       "      <th>windows</th>\n",
       "      <td>-0.089722</td>\n",
       "    </tr>\n",
       "    <tr>\n",
       "      <th>negative_ratings</th>\n",
       "      <td>-3.157135</td>\n",
       "    </tr>\n",
       "  </tbody>\n",
       "</table>\n",
       "</div>"
      ],
      "text/plain": [
       "                                     coef\n",
       "positive_ratings                 0.497221\n",
       "Steam Trading Cards_cate         0.015206\n",
       "average_playtime                 0.002363\n",
       "Puzzle                           0.001635\n",
       "Free to Play                     0.001439\n",
       "Steam Cloud_cate                 0.000947\n",
       "days_after_releasing             0.000301\n",
       "achievements                     0.000140\n",
       "owners                          -0.000005\n",
       "median_playtime                 -0.001966\n",
       "Steam Leaderboards_cate         -0.002112\n",
       "Simulation                      -0.005293\n",
       "linux                           -0.005642\n",
       "Online Multi-Player_cate        -0.006054\n",
       "Multi-player_cate               -0.006182\n",
       "required_age                    -0.006421\n",
       "RPG                             -0.007001\n",
       "Shared/Split Screen_cate        -0.009513\n",
       "mac                             -0.009931\n",
       "Full controller support_cate    -0.010151\n",
       "Strategy                        -0.010594\n",
       "Partial Controller Support_cate -0.012243\n",
       "Steam Achievements_cate         -0.017080\n",
       "Adventure                       -0.017398\n",
       "Early Access                    -0.020642\n",
       "Action                          -0.041205\n",
       "Casual                          -0.044730\n",
       "Indie                           -0.076039\n",
       "price                           -0.083927\n",
       "Single-player_cate              -0.085835\n",
       "english                         -0.088624\n",
       "windows                         -0.089722\n",
       "negative_ratings                -3.157135"
      ]
     },
     "execution_count": 60,
     "metadata": {},
     "output_type": "execute_result"
    }
   ],
   "source": [
    "coef=pd.DataFrame(model.coef_[2],X.columns,columns=['coef']).sort_values(by='coef', ascending=False)\n",
    "coef"
   ]
  },
  {
   "cell_type": "code",
   "execution_count": 61,
   "metadata": {},
   "outputs": [
    {
     "data": {
      "text/plain": [
       "array([[-3.29022628e-04,  3.53630869e-02,  5.30414586e-03,\n",
       "        -2.10599054e-04, -3.20939328e-03,  2.00892262e-03,\n",
       "         3.82206951e-06,  6.73478493e-02, -5.48425617e-01,\n",
       "         2.77299412e+00, -5.87968990e-03, -5.28347005e-03,\n",
       "         3.54984595e-02,  3.33618596e-02, -1.16187551e-02,\n",
       "        -1.09496780e-02, -7.24438440e-03, -6.02594420e-03,\n",
       "         6.67255146e-03,  1.92682074e-04, -3.93139529e-03,\n",
       "        -3.77525643e-04,  2.34832248e-03,  2.15030288e-02,\n",
       "         1.74802792e-02,  2.47790528e-02,  1.35298992e-02,\n",
       "         3.89196203e-03, -1.78422481e-03,  9.96995313e-03,\n",
       "         3.16721351e-03, -1.53728512e-03, -1.30848800e-03],\n",
       "       [ 2.84547119e-05,  5.32610195e-02,  1.11640572e-03,\n",
       "         7.08623840e-05,  8.45924714e-04, -4.30224553e-05,\n",
       "         6.96451448e-07,  1.65794620e-02,  5.12045488e-02,\n",
       "         3.84140478e-01,  1.15219913e-02,  1.52140466e-02,\n",
       "         5.42235716e-02,  5.24727148e-02,  2.86983409e-02,\n",
       "        -4.25653675e-03,  6.29724584e-03,  1.61766845e-02,\n",
       "         5.57011279e-03,  5.98933097e-03,  6.04350911e-03,\n",
       "         6.43169143e-03,  7.16469205e-03,  5.45362575e-02,\n",
       "         2.37245141e-02,  1.99508686e-02,  3.86762533e-03,\n",
       "         6.70213735e-03,  7.07704972e-03,  1.06724986e-02,\n",
       "         3.83405915e-03,  9.79027279e-05, -3.26394957e-04],\n",
       "       [ 3.00567916e-04, -8.86241063e-02, -6.42055158e-03,\n",
       "         1.39736675e-04,  2.36346858e-03, -1.96590017e-03,\n",
       "        -4.51861243e-06, -8.39273113e-02,  4.97221068e-01,\n",
       "        -3.15713460e+00, -5.64230144e-03, -9.93057650e-03,\n",
       "        -8.97220310e-02, -8.58345744e-02, -1.70795857e-02,\n",
       "         1.52062147e-02,  9.47138568e-04, -1.01507403e-02,\n",
       "        -1.22426643e-02, -6.18201304e-03, -2.11211383e-03,\n",
       "        -6.05416579e-03, -9.51301454e-03, -7.60392862e-02,\n",
       "        -4.12047933e-02, -4.47299215e-02, -1.73975245e-02,\n",
       "        -1.05940994e-02, -5.29282491e-03, -2.06424517e-02,\n",
       "        -7.00127266e-03,  1.43938240e-03,  1.63488296e-03]])"
      ]
     },
     "execution_count": 61,
     "metadata": {},
     "output_type": "execute_result"
    }
   ],
   "source": [
    "model.coef_"
   ]
  }
 ],
 "metadata": {
  "interpreter": {
   "hash": "7b4b4feff2f24a0f0a34464dbe537a36fda679851528fb8735cb41fa49dffb2d"
  },
  "kernelspec": {
   "display_name": "Python 3.8.8 64-bit ('base': conda)",
   "language": "python",
   "name": "python3"
  },
  "language_info": {
   "codemirror_mode": {
    "name": "ipython",
    "version": 3
   },
   "file_extension": ".py",
   "mimetype": "text/x-python",
   "name": "python",
   "nbconvert_exporter": "python",
   "pygments_lexer": "ipython3",
   "version": "3.8.8"
  },
  "orig_nbformat": 4
 },
 "nbformat": 4,
 "nbformat_minor": 2
}
