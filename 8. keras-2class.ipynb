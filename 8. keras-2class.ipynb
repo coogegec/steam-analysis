{
 "cells": [
  {
   "cell_type": "code",
   "execution_count": 1,
   "metadata": {},
   "outputs": [
    {
     "data": {
      "text/html": [
       "<div>\n",
       "<style scoped>\n",
       "    .dataframe tbody tr th:only-of-type {\n",
       "        vertical-align: middle;\n",
       "    }\n",
       "\n",
       "    .dataframe tbody tr th {\n",
       "        vertical-align: top;\n",
       "    }\n",
       "\n",
       "    .dataframe thead th {\n",
       "        text-align: right;\n",
       "    }\n",
       "</style>\n",
       "<table border=\"1\" class=\"dataframe\">\n",
       "  <thead>\n",
       "    <tr style=\"text-align: right;\">\n",
       "      <th></th>\n",
       "      <th>days_after_releasing</th>\n",
       "      <th>english</th>\n",
       "      <th>required_age</th>\n",
       "      <th>achievements</th>\n",
       "      <th>average_playtime</th>\n",
       "      <th>median_playtime</th>\n",
       "      <th>owners</th>\n",
       "      <th>price</th>\n",
       "      <th>positive_ratings</th>\n",
       "      <th>negative_ratings</th>\n",
       "      <th>...</th>\n",
       "      <th>Action</th>\n",
       "      <th>Casual</th>\n",
       "      <th>Adventure</th>\n",
       "      <th>Strategy</th>\n",
       "      <th>Simulation</th>\n",
       "      <th>Early Access</th>\n",
       "      <th>RPG</th>\n",
       "      <th>Free to Play</th>\n",
       "      <th>Puzzle</th>\n",
       "      <th>p-n ratio</th>\n",
       "    </tr>\n",
       "  </thead>\n",
       "  <tbody>\n",
       "    <tr>\n",
       "      <th>0</th>\n",
       "      <td>6769</td>\n",
       "      <td>1</td>\n",
       "      <td>0</td>\n",
       "      <td>0</td>\n",
       "      <td>17612</td>\n",
       "      <td>317</td>\n",
       "      <td>15000000</td>\n",
       "      <td>7.19</td>\n",
       "      <td>124534</td>\n",
       "      <td>3339</td>\n",
       "      <td>...</td>\n",
       "      <td>1</td>\n",
       "      <td>0</td>\n",
       "      <td>0</td>\n",
       "      <td>0</td>\n",
       "      <td>0</td>\n",
       "      <td>0</td>\n",
       "      <td>0</td>\n",
       "      <td>0</td>\n",
       "      <td>0</td>\n",
       "      <td>37.296795</td>\n",
       "    </tr>\n",
       "    <tr>\n",
       "      <th>1</th>\n",
       "      <td>7349</td>\n",
       "      <td>1</td>\n",
       "      <td>0</td>\n",
       "      <td>0</td>\n",
       "      <td>277</td>\n",
       "      <td>62</td>\n",
       "      <td>7500000</td>\n",
       "      <td>3.99</td>\n",
       "      <td>3318</td>\n",
       "      <td>633</td>\n",
       "      <td>...</td>\n",
       "      <td>1</td>\n",
       "      <td>0</td>\n",
       "      <td>0</td>\n",
       "      <td>0</td>\n",
       "      <td>0</td>\n",
       "      <td>0</td>\n",
       "      <td>0</td>\n",
       "      <td>0</td>\n",
       "      <td>0</td>\n",
       "      <td>5.241706</td>\n",
       "    </tr>\n",
       "    <tr>\n",
       "      <th>2</th>\n",
       "      <td>5858</td>\n",
       "      <td>1</td>\n",
       "      <td>0</td>\n",
       "      <td>0</td>\n",
       "      <td>187</td>\n",
       "      <td>34</td>\n",
       "      <td>7500000</td>\n",
       "      <td>3.99</td>\n",
       "      <td>3416</td>\n",
       "      <td>398</td>\n",
       "      <td>...</td>\n",
       "      <td>0</td>\n",
       "      <td>0</td>\n",
       "      <td>0</td>\n",
       "      <td>0</td>\n",
       "      <td>0</td>\n",
       "      <td>0</td>\n",
       "      <td>0</td>\n",
       "      <td>0</td>\n",
       "      <td>0</td>\n",
       "      <td>8.582915</td>\n",
       "    </tr>\n",
       "    <tr>\n",
       "      <th>3</th>\n",
       "      <td>6557</td>\n",
       "      <td>1</td>\n",
       "      <td>0</td>\n",
       "      <td>0</td>\n",
       "      <td>258</td>\n",
       "      <td>184</td>\n",
       "      <td>7500000</td>\n",
       "      <td>3.99</td>\n",
       "      <td>1273</td>\n",
       "      <td>267</td>\n",
       "      <td>...</td>\n",
       "      <td>1</td>\n",
       "      <td>0</td>\n",
       "      <td>0</td>\n",
       "      <td>0</td>\n",
       "      <td>0</td>\n",
       "      <td>0</td>\n",
       "      <td>0</td>\n",
       "      <td>0</td>\n",
       "      <td>0</td>\n",
       "      <td>4.767790</td>\n",
       "    </tr>\n",
       "    <tr>\n",
       "      <th>4</th>\n",
       "      <td>7135</td>\n",
       "      <td>1</td>\n",
       "      <td>0</td>\n",
       "      <td>0</td>\n",
       "      <td>624</td>\n",
       "      <td>415</td>\n",
       "      <td>7500000</td>\n",
       "      <td>3.99</td>\n",
       "      <td>5250</td>\n",
       "      <td>288</td>\n",
       "      <td>...</td>\n",
       "      <td>1</td>\n",
       "      <td>0</td>\n",
       "      <td>0</td>\n",
       "      <td>0</td>\n",
       "      <td>0</td>\n",
       "      <td>0</td>\n",
       "      <td>0</td>\n",
       "      <td>0</td>\n",
       "      <td>0</td>\n",
       "      <td>18.229167</td>\n",
       "    </tr>\n",
       "  </tbody>\n",
       "</table>\n",
       "<p>5 rows × 34 columns</p>\n",
       "</div>"
      ],
      "text/plain": [
       "   days_after_releasing  english  required_age  achievements  \\\n",
       "0                  6769        1             0             0   \n",
       "1                  7349        1             0             0   \n",
       "2                  5858        1             0             0   \n",
       "3                  6557        1             0             0   \n",
       "4                  7135        1             0             0   \n",
       "\n",
       "   average_playtime  median_playtime    owners  price  positive_ratings  \\\n",
       "0             17612              317  15000000   7.19            124534   \n",
       "1               277               62   7500000   3.99              3318   \n",
       "2               187               34   7500000   3.99              3416   \n",
       "3               258              184   7500000   3.99              1273   \n",
       "4               624              415   7500000   3.99              5250   \n",
       "\n",
       "   negative_ratings  ...  Action  Casual  Adventure  Strategy  Simulation  \\\n",
       "0              3339  ...       1       0          0         0           0   \n",
       "1               633  ...       1       0          0         0           0   \n",
       "2               398  ...       0       0          0         0           0   \n",
       "3               267  ...       1       0          0         0           0   \n",
       "4               288  ...       1       0          0         0           0   \n",
       "\n",
       "   Early Access  RPG  Free to Play  Puzzle  p-n ratio  \n",
       "0             0    0             0       0  37.296795  \n",
       "1             0    0             0       0   5.241706  \n",
       "2             0    0             0       0   8.582915  \n",
       "3             0    0             0       0   4.767790  \n",
       "4             0    0             0       0  18.229167  \n",
       "\n",
       "[5 rows x 34 columns]"
      ]
     },
     "execution_count": 1,
     "metadata": {},
     "output_type": "execute_result"
    }
   ],
   "source": [
    "import pandas as pd\n",
    "\n",
    "df=pd.read_csv('d:/data/steam/steam_final.csv')\n",
    "df.head()"
   ]
  },
  {
   "cell_type": "code",
   "execution_count": 2,
   "metadata": {},
   "outputs": [
    {
     "data": {
      "text/html": [
       "<div>\n",
       "<style scoped>\n",
       "    .dataframe tbody tr th:only-of-type {\n",
       "        vertical-align: middle;\n",
       "    }\n",
       "\n",
       "    .dataframe tbody tr th {\n",
       "        vertical-align: top;\n",
       "    }\n",
       "\n",
       "    .dataframe thead th {\n",
       "        text-align: right;\n",
       "    }\n",
       "</style>\n",
       "<table border=\"1\" class=\"dataframe\">\n",
       "  <thead>\n",
       "    <tr style=\"text-align: right;\">\n",
       "      <th></th>\n",
       "      <th>days_after_releasing</th>\n",
       "      <th>english</th>\n",
       "      <th>required_age</th>\n",
       "      <th>achievements</th>\n",
       "      <th>average_playtime</th>\n",
       "      <th>median_playtime</th>\n",
       "      <th>owners</th>\n",
       "      <th>price</th>\n",
       "      <th>positive_ratings</th>\n",
       "      <th>negative_ratings</th>\n",
       "      <th>...</th>\n",
       "      <th>Casual</th>\n",
       "      <th>Adventure</th>\n",
       "      <th>Strategy</th>\n",
       "      <th>Simulation</th>\n",
       "      <th>Early Access</th>\n",
       "      <th>RPG</th>\n",
       "      <th>Free to Play</th>\n",
       "      <th>Puzzle</th>\n",
       "      <th>p-n ratio</th>\n",
       "      <th>p-n ratio_categorize</th>\n",
       "    </tr>\n",
       "  </thead>\n",
       "  <tbody>\n",
       "    <tr>\n",
       "      <th>0</th>\n",
       "      <td>6769</td>\n",
       "      <td>1</td>\n",
       "      <td>0</td>\n",
       "      <td>0</td>\n",
       "      <td>17612</td>\n",
       "      <td>317</td>\n",
       "      <td>15000000</td>\n",
       "      <td>7.19</td>\n",
       "      <td>124534</td>\n",
       "      <td>3339</td>\n",
       "      <td>...</td>\n",
       "      <td>0</td>\n",
       "      <td>0</td>\n",
       "      <td>0</td>\n",
       "      <td>0</td>\n",
       "      <td>0</td>\n",
       "      <td>0</td>\n",
       "      <td>0</td>\n",
       "      <td>0</td>\n",
       "      <td>37.296795</td>\n",
       "      <td>2</td>\n",
       "    </tr>\n",
       "    <tr>\n",
       "      <th>1</th>\n",
       "      <td>7349</td>\n",
       "      <td>1</td>\n",
       "      <td>0</td>\n",
       "      <td>0</td>\n",
       "      <td>277</td>\n",
       "      <td>62</td>\n",
       "      <td>7500000</td>\n",
       "      <td>3.99</td>\n",
       "      <td>3318</td>\n",
       "      <td>633</td>\n",
       "      <td>...</td>\n",
       "      <td>0</td>\n",
       "      <td>0</td>\n",
       "      <td>0</td>\n",
       "      <td>0</td>\n",
       "      <td>0</td>\n",
       "      <td>0</td>\n",
       "      <td>0</td>\n",
       "      <td>0</td>\n",
       "      <td>5.241706</td>\n",
       "      <td>2</td>\n",
       "    </tr>\n",
       "    <tr>\n",
       "      <th>2</th>\n",
       "      <td>5858</td>\n",
       "      <td>1</td>\n",
       "      <td>0</td>\n",
       "      <td>0</td>\n",
       "      <td>187</td>\n",
       "      <td>34</td>\n",
       "      <td>7500000</td>\n",
       "      <td>3.99</td>\n",
       "      <td>3416</td>\n",
       "      <td>398</td>\n",
       "      <td>...</td>\n",
       "      <td>0</td>\n",
       "      <td>0</td>\n",
       "      <td>0</td>\n",
       "      <td>0</td>\n",
       "      <td>0</td>\n",
       "      <td>0</td>\n",
       "      <td>0</td>\n",
       "      <td>0</td>\n",
       "      <td>8.582915</td>\n",
       "      <td>2</td>\n",
       "    </tr>\n",
       "    <tr>\n",
       "      <th>3</th>\n",
       "      <td>6557</td>\n",
       "      <td>1</td>\n",
       "      <td>0</td>\n",
       "      <td>0</td>\n",
       "      <td>258</td>\n",
       "      <td>184</td>\n",
       "      <td>7500000</td>\n",
       "      <td>3.99</td>\n",
       "      <td>1273</td>\n",
       "      <td>267</td>\n",
       "      <td>...</td>\n",
       "      <td>0</td>\n",
       "      <td>0</td>\n",
       "      <td>0</td>\n",
       "      <td>0</td>\n",
       "      <td>0</td>\n",
       "      <td>0</td>\n",
       "      <td>0</td>\n",
       "      <td>0</td>\n",
       "      <td>4.767790</td>\n",
       "      <td>1</td>\n",
       "    </tr>\n",
       "    <tr>\n",
       "      <th>4</th>\n",
       "      <td>7135</td>\n",
       "      <td>1</td>\n",
       "      <td>0</td>\n",
       "      <td>0</td>\n",
       "      <td>624</td>\n",
       "      <td>415</td>\n",
       "      <td>7500000</td>\n",
       "      <td>3.99</td>\n",
       "      <td>5250</td>\n",
       "      <td>288</td>\n",
       "      <td>...</td>\n",
       "      <td>0</td>\n",
       "      <td>0</td>\n",
       "      <td>0</td>\n",
       "      <td>0</td>\n",
       "      <td>0</td>\n",
       "      <td>0</td>\n",
       "      <td>0</td>\n",
       "      <td>0</td>\n",
       "      <td>18.229167</td>\n",
       "      <td>2</td>\n",
       "    </tr>\n",
       "  </tbody>\n",
       "</table>\n",
       "<p>5 rows × 35 columns</p>\n",
       "</div>"
      ],
      "text/plain": [
       "   days_after_releasing  english  required_age  achievements  \\\n",
       "0                  6769        1             0             0   \n",
       "1                  7349        1             0             0   \n",
       "2                  5858        1             0             0   \n",
       "3                  6557        1             0             0   \n",
       "4                  7135        1             0             0   \n",
       "\n",
       "   average_playtime  median_playtime    owners  price  positive_ratings  \\\n",
       "0             17612              317  15000000   7.19            124534   \n",
       "1               277               62   7500000   3.99              3318   \n",
       "2               187               34   7500000   3.99              3416   \n",
       "3               258              184   7500000   3.99              1273   \n",
       "4               624              415   7500000   3.99              5250   \n",
       "\n",
       "   negative_ratings  ...  Casual  Adventure  Strategy  Simulation  \\\n",
       "0              3339  ...       0          0         0           0   \n",
       "1               633  ...       0          0         0           0   \n",
       "2               398  ...       0          0         0           0   \n",
       "3               267  ...       0          0         0           0   \n",
       "4               288  ...       0          0         0           0   \n",
       "\n",
       "   Early Access  RPG  Free to Play  Puzzle  p-n ratio  p-n ratio_categorize  \n",
       "0             0    0             0       0  37.296795                     2  \n",
       "1             0    0             0       0   5.241706                     2  \n",
       "2             0    0             0       0   8.582915                     2  \n",
       "3             0    0             0       0   4.767790                     1  \n",
       "4             0    0             0       0  18.229167                     2  \n",
       "\n",
       "[5 rows x 35 columns]"
      ]
     },
     "execution_count": 2,
     "metadata": {},
     "output_type": "execute_result"
    }
   ],
   "source": [
    "import numpy as np\n",
    "from matplotlib import font_manager,rc\n",
    "\n",
    "font_name=font_manager.FontProperties(fname='c:/windows/fonts/malgun.ttf').get_name()\n",
    "rc('font', family=font_name)\n",
    "\n",
    "df['p-n ratio_categorize']=np.digitize(df['p-n ratio'], [0,5])\n",
    "df.head()"
   ]
  },
  {
   "cell_type": "code",
   "execution_count": 3,
   "metadata": {},
   "outputs": [
    {
     "name": "stderr",
     "output_type": "stream",
     "text": [
      "D:\\anaconda3\\lib\\site-packages\\seaborn\\_decorators.py:36: FutureWarning: Pass the following variable as a keyword arg: x. From version 0.12, the only valid positional argument will be `data`, and passing other arguments without an explicit keyword will result in an error or misinterpretation.\n",
      "  warnings.warn(\n"
     ]
    },
    {
     "data": {
      "text/plain": [
       "Text(0.5, 1.0, '분류\\n (1: 나쁨, 2: 좋음)')"
      ]
     },
     "execution_count": 3,
     "metadata": {},
     "output_type": "execute_result"
    },
    {
     "data": {
      "image/png": "[encoded data removed]",
      "text/plain": [
       "<Figure size 432x288 with 1 Axes>"
      ]
     },
     "metadata": {
      "needs_background": "light"
     },
     "output_type": "display_data"
    }
   ],
   "source": [
    "import matplotlib.pyplot as plt\n",
    "import seaborn as sns\n",
    "\n",
    "colors=['red','green']\n",
    "sns.countplot('p-n ratio_categorize', data=df, palette=colors)\n",
    "plt.title(\"분류\\n (1: 나쁨, 2: 좋음)\", fontsize=14)"
   ]
  },
  {
   "cell_type": "code",
   "execution_count": 4,
   "metadata": {},
   "outputs": [],
   "source": [
    "from imblearn.under_sampling import RandomUnderSampler\n",
    "\n",
    "X=df[df.columns[:-2]]\n",
    "y=df['p-n ratio_categorize']\n",
    "\n",
    "X_sample, y_sample=RandomUnderSampler(random_state=0).fit_resample(X,y)\n",
    "X_samp=pd.DataFrame(data=X_sample, columns=df.columns[:-2])\n",
    "y_samp=pd.DataFrame(data=y_sample, columns=['p-n ratio_categorize'])\n",
    "df2=pd.concat([X_samp,y_samp], axis=1)"
   ]
  },
  {
   "cell_type": "code",
   "execution_count": 5,
   "metadata": {},
   "outputs": [
    {
     "data": {
      "text/plain": [
       "1    8284\n",
       "2    8284\n",
       "Name: p-n ratio_categorize, dtype: int64"
      ]
     },
     "execution_count": 5,
     "metadata": {},
     "output_type": "execute_result"
    }
   ],
   "source": [
    "df2['p-n ratio_categorize'].value_counts()"
   ]
  },
  {
   "cell_type": "code",
   "execution_count": 6,
   "metadata": {},
   "outputs": [
    {
     "name": "stderr",
     "output_type": "stream",
     "text": [
      "D:\\anaconda3\\lib\\site-packages\\seaborn\\_decorators.py:36: FutureWarning: Pass the following variable as a keyword arg: x. From version 0.12, the only valid positional argument will be `data`, and passing other arguments without an explicit keyword will result in an error or misinterpretation.\n",
      "  warnings.warn(\n"
     ]
    },
    {
     "data": {
      "text/plain": [
       "Text(0.5, 1.0, '분류\\n (1: 나쁨, 2: 좋음)')"
      ]
     },
     "execution_count": 6,
     "metadata": {},
     "output_type": "execute_result"
    },
    {
     "data": {
      "image/png": "[encoded data removed]",
      "text/plain": [
       "<Figure size 432x288 with 1 Axes>"
      ]
     },
     "metadata": {
      "needs_background": "light"
     },
     "output_type": "display_data"
    }
   ],
   "source": [
    "sns.countplot('p-n ratio_categorize', data=df2, palette=colors)\n",
    "plt.title(\"분류\\n (1: 나쁨, 2: 좋음)\", fontsize=14)"
   ]
  },
  {
   "cell_type": "code",
   "execution_count": 7,
   "metadata": {},
   "outputs": [],
   "source": [
    "X=df2[df2.columns[:-1]]\n",
    "y=df2['p-n ratio_categorize']"
   ]
  },
  {
   "cell_type": "code",
   "execution_count": 8,
   "metadata": {},
   "outputs": [],
   "source": [
    "from sklearn.model_selection import train_test_split\n",
    "\n",
    "X_train, X_test, y_train, y_test=train_test_split(X,y,test_size=0.2, random_state=0)"
   ]
  },
  {
   "cell_type": "code",
   "execution_count": 9,
   "metadata": {},
   "outputs": [],
   "source": [
    "from tensorflow.keras.models import Sequential\n",
    "from tensorflow.keras.layers import Dense, Dropout\n",
    "\n",
    "model=Sequential() # 모델 구성\n",
    "# 노드 개수, 독립변수 개수, 활성화함수 relu\n",
    "model.add(Dense(128, input_shape=(len(X_train.columns),), activation='relu'))\n",
    "model.add(Dense(64, activation='relu'))\n",
    "model.add(Dense(64, activation='relu'))\n",
    "model.add(Dropout(0.2))\n",
    "model.add(Dense(1, activation='softmax'))\n",
    "model.compile(loss='categorical_crossentropy', optimizer='adam', metrics=['accuracy'])"
   ]
  },
  {
   "cell_type": "code",
   "execution_count": 10,
   "metadata": {},
   "outputs": [
    {
     "name": "stdout",
     "output_type": "stream",
     "text": [
      "Epoch 1/100\n",
      "332/332 [==============================] - 3s 5ms/step - loss: 0.0000e+00 - accuracy: 0.4984 - val_loss: 0.0000e+00 - val_accuracy: 0.5074\n",
      "Epoch 2/100\n",
      "332/332 [==============================] - 0s 904us/step - loss: 0.0000e+00 - accuracy: 0.4955 - val_loss: 0.0000e+00 - val_accuracy: 0.5074\n",
      "Epoch 3/100\n",
      "332/332 [==============================] - 0s 902us/step - loss: 0.0000e+00 - accuracy: 0.5105 - val_loss: 0.0000e+00 - val_accuracy: 0.5074\n"
     ]
    }
   ],
   "source": [
    "from tensorflow.keras.callbacks import EarlyStopping\n",
    "\n",
    "early_stopping=EarlyStopping(patience=2) # 학습 조기 종료 옵션. 2회 이상 개선되지 않으면 학습 종료\n",
    "# validation 데이터가 필요함\n",
    "hist=model.fit(X_train, y_train, epochs=100, validation_split=0.2, callbacks=[early_stopping])\n",
    "# validation_split : Train 중에서 validation 데이터의 비율"
   ]
  },
  {
   "cell_type": "code",
   "execution_count": 11,
   "metadata": {},
   "outputs": [
    {
     "data": {
      "image/png": "[encoded data removed]",
      "text/plain": [
       "<Figure size 864x576 with 1 Axes>"
      ]
     },
     "metadata": {
      "needs_background": "light"
     },
     "output_type": "display_data"
    }
   ],
   "source": [
    "# 모델 학습 과정 표시\n",
    "plt.figure(figsize=(12,8))\n",
    "plt.plot(hist.history['loss']) # 손실률\n",
    "plt.plot(hist.history['accuracy']) # 정확도\n",
    "plt.legend(['loss','accuracy'])\n",
    "plt.grid()\n",
    "plt.show()"
   ]
  },
  {
   "cell_type": "code",
   "execution_count": 12,
   "metadata": {},
   "outputs": [
    {
     "name": "stdout",
     "output_type": "stream",
     "text": [
      "415/415 [==============================] - 0s 502us/step - loss: 0.0000e+00 - accuracy: 0.5021\n",
      "[0.0, 0.5021125674247742]\n",
      "accuracy : 50.21%\n",
      "104/104 [==============================] - 0s 467us/step - loss: 0.0000e+00 - accuracy: 0.4916\n",
      "[0.0, 0.4915509819984436]\n",
      "accuracy : 49.16%\n"
     ]
    }
   ],
   "source": [
    "# 모델 평가 \n",
    "scores=model.evaluate(X_train, y_train, verbose=1)\n",
    "print(scores)\n",
    "print(\"%s : %.2f%%\" %(model.metrics_names[1], scores[1]*100)) # 학습용\n",
    "\n",
    "scores=model.evaluate(X_test, y_test, verbose=1)\n",
    "print(scores)\n",
    "print(\"%s : %.2f%%\" %(model.metrics_names[1], scores[1]*100)) # 검증용"
   ]
  }
 ],
 "metadata": {
  "interpreter": {
   "hash": "7b4b4feff2f24a0f0a34464dbe537a36fda679851528fb8735cb41fa49dffb2d"
  },
  "kernelspec": {
   "display_name": "Python 3.8.8 64-bit ('base': conda)",
   "language": "python",
   "name": "python3"
  },
  "language_info": {
   "codemirror_mode": {
    "name": "ipython",
    "version": 3
   },
   "file_extension": ".py",
   "mimetype": "text/x-python",
   "name": "python",
   "nbconvert_exporter": "python",
   "pygments_lexer": "ipython3",
   "version": "3.8.8"
  },
  "orig_nbformat": 4
 },
 "nbformat": 4,
 "nbformat_minor": 2
}
